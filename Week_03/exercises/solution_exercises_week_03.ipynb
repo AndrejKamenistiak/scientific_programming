{
 "cells": [
  {
   "cell_type": "markdown",
   "metadata": {},
   "source": [
    "# Exercises Week 03 (in class)"
   ]
  },
  {
   "cell_type": "markdown",
   "metadata": {},
   "source": [
    "## Libraries and settings"
   ]
  },
  {
   "cell_type": "code",
   "execution_count": null,
   "metadata": {},
   "outputs": [],
   "source": [
    "# Import Libraries\n",
    "\n",
    "\n",
    "# Ignore warnigns\n",
    "\n",
    "\n",
    "# Show current working directory\n"
   ]
  },
  {
   "cell_type": "markdown",
   "metadata": {},
   "source": [
    "## Input & Output in Python"
   ]
  },
  {
   "cell_type": "code",
   "execution_count": null,
   "metadata": {},
   "outputs": [],
   "source": [
    "# Read the data from the sheet 'cars' in the file 'car_dealer_data.xlsx' in the data folder and store it in a pandas data frame.\n",
    "\n",
    "\n",
    "# Write Python code to show the dimensions of the data frame.\n",
    "\n",
    "\n",
    "# Write Python code to select only BMW cars.\n",
    "\n",
    "\n",
    "# Show the data frame with only BMW cars.\n",
    "\n"
   ]
  },
  {
   "cell_type": "markdown",
   "metadata": {},
   "source": [
    "## Formatting Strings & Working with Dates in Python"
   ]
  },
  {
   "cell_type": "code",
   "execution_count": null,
   "metadata": {},
   "outputs": [],
   "source": [
    "# Read the data from the sheet 'Sales' in the file 'car_dealer_data.xlsx' in the data folder and store it in a pandas data frame.\n",
    "\n",
    "\n",
    "# Change the format of the column 'SaleDate' of the table 'Sales' in the cars data to 'datetime' with \"%Y-%m-%d\".\n",
    "\n",
    "\n",
    "# Calculate the date difference between the formatted 'SaleDate' and the today's date.\n",
    "\n",
    "\n",
    "# Show the data frame\n"
   ]
  },
  {
   "cell_type": "markdown",
   "metadata": {},
   "source": [
    "## Writing and Querying SQLite Databases with Python"
   ]
  },
  {
   "cell_type": "code",
   "execution_count": null,
   "metadata": {},
   "outputs": [],
   "source": [
    "# Create a connection to the SQLite database 'car_dealer_data.db' in the data folder.\n",
    "\n",
    "\n",
    "# Write an SQL statement to select prices >= 10,000 USD and store the result in a pandas data frame.\n",
    "\n",
    "\n",
    "# Close the connection\n",
    "\n",
    "\n",
    "# Show the data frame\n"
   ]
  }
 ],
 "metadata": {
  "kernelspec": {
   "display_name": "spenv",
   "language": "python",
   "name": "python3"
  },
  "language_info": {
   "codemirror_mode": {
    "name": "ipython",
    "version": 3
   },
   "file_extension": ".py",
   "mimetype": "text/x-python",
   "name": "python",
   "nbconvert_exporter": "python",
   "pygments_lexer": "ipython3",
   "version": "3.11.10"
  }
 },
 "nbformat": 4,
 "nbformat_minor": 2
}
