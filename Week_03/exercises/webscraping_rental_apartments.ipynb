{
 "cells": [
  {
   "cell_type": "markdown",
   "metadata": {},
   "source": [
    "# Web Scraping Rental Aprtment Data with Python and Beautifulsoup\n",
    "\n",
    "Data from: https://www.immoscout24.ch/de/immobilien/mieten/ort-zuerich?pn=1"
   ]
  },
  {
   "cell_type": "markdown",
   "metadata": {},
   "source": [
    "## Libraries and settings"
   ]
  },
  {
   "cell_type": "code",
   "execution_count": 15,
   "metadata": {},
   "outputs": [],
   "source": [
    "import requests\n",
    "import pandas as pd\n",
    "from bs4 import BeautifulSoup\n",
    "import matplotlib.pyplot as plt"
   ]
  },
  {
   "cell_type": "markdown",
   "metadata": {},
   "source": [
    "## Web Scraper function"
   ]
  },
  {
   "cell_type": "code",
   "execution_count": 16,
   "metadata": {},
   "outputs": [],
   "source": [
    "# Function to extract the listings from a given URL\n",
    "def extract_listing_info(url):\n",
    "\n",
    "    # Send a GET request to the input URL\n",
    "    response = requests.get(url)\n",
    "\n",
    "    # Parse the content of the request with BeautifulSoup\n",
    "    soup = BeautifulSoup(response.content, 'html.parser')\n",
    "    \n",
    "    # Extract the listings from the parsed content\n",
    "    listings = soup.find_all('div', class_='HgListingCard_info_RKrwz')\n",
    "    extracted_data = []\n",
    "    \n",
    "    # Loop through the listings and extract the required information\n",
    "    for listing in listings:\n",
    "        # Extract address\n",
    "        address_tag = listing.find('address')\n",
    "        address = address_tag.text.strip() if address_tag else 'N/A'\n",
    "\n",
    "        # Extract rooms, living area, and price\n",
    "        info_section = listing.find('div', class_='HgListingRoomsLivingSpacePrice_roomsLivingSpacePrice_M6Ktp')\n",
    "        if info_section:\n",
    "            info_text = [strong.text.strip() for strong in info_section.find_all('strong')]\n",
    "            rooms = info_text[0] if len(info_text) > 0 else 'N/A'\n",
    "            living_area = info_text[1] if len(info_text) > 1 else 'N/A'\n",
    "            price_tag = info_section.find('span', class_='HgListingRoomsLivingSpacePrice_price_u9Vee')\n",
    "            price = price_tag.text.strip() if price_tag else 'N/A'\n",
    "        else:\n",
    "            rooms, living_area, price = 'N/A', 'N/A', 'N/A'\n",
    "\n",
    "        # Extract title and description\n",
    "        title_tag = listing.find('p', class_='HgListingDescription_title_NAAxy')\n",
    "        title = title_tag.text.strip() if title_tag else 'N/A'\n",
    "\n",
    "        description_tag = listing.find('p', class_='HgListingDescription_large_uKs3J')\n",
    "        description = description_tag.text.strip() if description_tag else 'N/A'\n",
    "\n",
    "        # Append extracted data to the list\n",
    "        extracted_data.append({\n",
    "            'address_raw': address,\n",
    "            'rooms_raw': rooms,\n",
    "            'area_raw': living_area,\n",
    "            'price_raw': price,\n",
    "            'title_raw': title,\n",
    "            'description_raw': description\n",
    "        })\n",
    "    \n",
    "    # Return the extracted data\n",
    "    return extracted_data\n"
   ]
  },
  {
   "cell_type": "markdown",
   "metadata": {},
   "source": [
    "## Call the Web Scraper function to get apartment data from the 1st page"
   ]
  },
  {
   "cell_type": "code",
   "execution_count": 17,
   "metadata": {},
   "outputs": [
    {
     "data": {
      "text/html": [
       "<div>\n",
       "<style scoped>\n",
       "    .dataframe tbody tr th:only-of-type {\n",
       "        vertical-align: middle;\n",
       "    }\n",
       "\n",
       "    .dataframe tbody tr th {\n",
       "        vertical-align: top;\n",
       "    }\n",
       "\n",
       "    .dataframe thead th {\n",
       "        text-align: right;\n",
       "    }\n",
       "</style>\n",
       "<table border=\"1\" class=\"dataframe\">\n",
       "  <thead>\n",
       "    <tr style=\"text-align: right;\">\n",
       "      <th></th>\n",
       "      <th>address_raw</th>\n",
       "      <th>rooms_raw</th>\n",
       "      <th>area_raw</th>\n",
       "      <th>price_raw</th>\n",
       "      <th>title_raw</th>\n",
       "      <th>description_raw</th>\n",
       "    </tr>\n",
       "  </thead>\n",
       "  <tbody>\n",
       "    <tr>\n",
       "      <th>0</th>\n",
       "      <td>Weidmannstrasse 13, 8046 Zürich</td>\n",
       "      <td>5.5 Zimmer</td>\n",
       "      <td>140m²</td>\n",
       "      <td>CHF 5’920.–</td>\n",
       "      <td>Luxuriöse 5.5-Zimmerwohnung mit großzügigem Ga...</td>\n",
       "      <td>Moderne und wunderschöne 5.5-Zimmerwohnung mit...</td>\n",
       "    </tr>\n",
       "    <tr>\n",
       "      <th>1</th>\n",
       "      <td>Badenerstrasse 682, 8048 Zürich</td>\n",
       "      <td>3.5 Zimmer</td>\n",
       "      <td>80m²</td>\n",
       "      <td>CHF 3’920.–</td>\n",
       "      <td>Exklusive Erstvermietung - Projekt \"TILIA\"</td>\n",
       "      <td>Im Projekt «TILIA» finden Sie 72 stilvolle 1.5...</td>\n",
       "    </tr>\n",
       "    <tr>\n",
       "      <th>2</th>\n",
       "      <td>Anna-Heer-Strasse 14, 8057 Zürich</td>\n",
       "      <td>3.5 Zimmer</td>\n",
       "      <td>72m²</td>\n",
       "      <td>CHF 4’200.–</td>\n",
       "      <td>3.5 Zimmerwohnung in Zürich</td>\n",
       "      <td>An der Anna-Heer-Strasse in Zürich entstehen m...</td>\n",
       "    </tr>\n",
       "    <tr>\n",
       "      <th>3</th>\n",
       "      <td>Anna-Heer-Strasse 14, 8057 Zürich</td>\n",
       "      <td>4.5 Zimmer</td>\n",
       "      <td>85m²</td>\n",
       "      <td>CHF 4’830.–</td>\n",
       "      <td>4.5 Zimmerwohnung in Zürich</td>\n",
       "      <td>An der Anna-Heer-Strasse in Zürich entstehen m...</td>\n",
       "    </tr>\n",
       "    <tr>\n",
       "      <th>4</th>\n",
       "      <td>Anna-Heer-Strasse 12, 8057 Zürich</td>\n",
       "      <td>4.5 Zimmer</td>\n",
       "      <td>85m²</td>\n",
       "      <td>CHF 4’830.–</td>\n",
       "      <td>4.5 Zimmerwohnung in Zürich</td>\n",
       "      <td>An der Anna-Heer-Strasse in Zürich entstehen m...</td>\n",
       "    </tr>\n",
       "  </tbody>\n",
       "</table>\n",
       "</div>"
      ],
      "text/plain": [
       "                         address_raw   rooms_raw area_raw    price_raw  \\\n",
       "0    Weidmannstrasse 13, 8046 Zürich  5.5 Zimmer    140m²  CHF 5’920.–   \n",
       "1    Badenerstrasse 682, 8048 Zürich  3.5 Zimmer     80m²  CHF 3’920.–   \n",
       "2  Anna-Heer-Strasse 14, 8057 Zürich  3.5 Zimmer     72m²  CHF 4’200.–   \n",
       "3  Anna-Heer-Strasse 14, 8057 Zürich  4.5 Zimmer     85m²  CHF 4’830.–   \n",
       "4  Anna-Heer-Strasse 12, 8057 Zürich  4.5 Zimmer     85m²  CHF 4’830.–   \n",
       "\n",
       "                                           title_raw  \\\n",
       "0  Luxuriöse 5.5-Zimmerwohnung mit großzügigem Ga...   \n",
       "1         Exklusive Erstvermietung - Projekt \"TILIA\"   \n",
       "2                        3.5 Zimmerwohnung in Zürich   \n",
       "3                        4.5 Zimmerwohnung in Zürich   \n",
       "4                        4.5 Zimmerwohnung in Zürich   \n",
       "\n",
       "                                     description_raw  \n",
       "0  Moderne und wunderschöne 5.5-Zimmerwohnung mit...  \n",
       "1  Im Projekt «TILIA» finden Sie 72 stilvolle 1.5...  \n",
       "2  An der Anna-Heer-Strasse in Zürich entstehen m...  \n",
       "3  An der Anna-Heer-Strasse in Zürich entstehen m...  \n",
       "4  An der Anna-Heer-Strasse in Zürich entstehen m...  "
      ]
     },
     "execution_count": 17,
     "metadata": {},
     "output_type": "execute_result"
    }
   ],
   "source": [
    "# Scrape 1st page\n",
    "url = 'https://www.immoscout24.ch/de/immobilien/mieten/ort-zuerich?pn=1'\n",
    "\n",
    "# Extract listing information to a list object 'data'\n",
    "data = extract_listing_info(url)\n",
    "\n",
    "# Create DataFrame from 'data'\n",
    "df = pd.DataFrame(data)\n",
    "\n",
    "# Show the first few rows of the DataFrame\n",
    "df.head()"
   ]
  },
  {
   "cell_type": "markdown",
   "metadata": {},
   "source": [
    "## Call the Web Scraper function to get apartment data from multiple pages"
   ]
  },
  {
   "cell_type": "code",
   "execution_count": 18,
   "metadata": {},
   "outputs": [
    {
     "name": "stdout",
     "output_type": "stream",
     "text": [
      "Scraping https://www.immoscout24.ch/de/immobilien/mieten/ort-zuerich?pn=1...\n",
      "Scraping https://www.immoscout24.ch/de/immobilien/mieten/ort-zuerich?pn=2...\n",
      "Scraping https://www.immoscout24.ch/de/immobilien/mieten/ort-zuerich?pn=3...\n",
      "\n",
      "Data saved to real_estate_listings.csv\n"
     ]
    },
    {
     "data": {
      "text/html": [
       "<div>\n",
       "<style scoped>\n",
       "    .dataframe tbody tr th:only-of-type {\n",
       "        vertical-align: middle;\n",
       "    }\n",
       "\n",
       "    .dataframe tbody tr th {\n",
       "        vertical-align: top;\n",
       "    }\n",
       "\n",
       "    .dataframe thead th {\n",
       "        text-align: right;\n",
       "    }\n",
       "</style>\n",
       "<table border=\"1\" class=\"dataframe\">\n",
       "  <thead>\n",
       "    <tr style=\"text-align: right;\">\n",
       "      <th></th>\n",
       "      <th>address_raw</th>\n",
       "      <th>rooms_raw</th>\n",
       "      <th>area_raw</th>\n",
       "      <th>price_raw</th>\n",
       "      <th>title_raw</th>\n",
       "      <th>description_raw</th>\n",
       "    </tr>\n",
       "  </thead>\n",
       "  <tbody>\n",
       "    <tr>\n",
       "      <th>0</th>\n",
       "      <td>Weidmannstrasse 13, 8046 Zürich</td>\n",
       "      <td>5.5 Zimmer</td>\n",
       "      <td>140m²</td>\n",
       "      <td>CHF 5’920.–</td>\n",
       "      <td>Luxuriöse 5.5-Zimmerwohnung mit großzügigem Ga...</td>\n",
       "      <td>Moderne und wunderschöne 5.5-Zimmerwohnung mit...</td>\n",
       "    </tr>\n",
       "    <tr>\n",
       "      <th>1</th>\n",
       "      <td>Badenerstrasse 682, 8048 Zürich</td>\n",
       "      <td>3.5 Zimmer</td>\n",
       "      <td>80m²</td>\n",
       "      <td>CHF 3’920.–</td>\n",
       "      <td>Exklusive Erstvermietung - Projekt \"TILIA\"</td>\n",
       "      <td>Im Projekt «TILIA» finden Sie 72 stilvolle 1.5...</td>\n",
       "    </tr>\n",
       "    <tr>\n",
       "      <th>2</th>\n",
       "      <td>Anna-Heer-Strasse 14, 8057 Zürich</td>\n",
       "      <td>3.5 Zimmer</td>\n",
       "      <td>72m²</td>\n",
       "      <td>CHF 4’200.–</td>\n",
       "      <td>3.5 Zimmerwohnung in Zürich</td>\n",
       "      <td>An der Anna-Heer-Strasse in Zürich entstehen m...</td>\n",
       "    </tr>\n",
       "    <tr>\n",
       "      <th>3</th>\n",
       "      <td>Anna-Heer-Strasse 14, 8057 Zürich</td>\n",
       "      <td>4.5 Zimmer</td>\n",
       "      <td>85m²</td>\n",
       "      <td>CHF 4’830.–</td>\n",
       "      <td>4.5 Zimmerwohnung in Zürich</td>\n",
       "      <td>An der Anna-Heer-Strasse in Zürich entstehen m...</td>\n",
       "    </tr>\n",
       "    <tr>\n",
       "      <th>4</th>\n",
       "      <td>Anna-Heer-Strasse 12, 8057 Zürich</td>\n",
       "      <td>4.5 Zimmer</td>\n",
       "      <td>85m²</td>\n",
       "      <td>CHF 4’830.–</td>\n",
       "      <td>4.5 Zimmerwohnung in Zürich</td>\n",
       "      <td>An der Anna-Heer-Strasse in Zürich entstehen m...</td>\n",
       "    </tr>\n",
       "  </tbody>\n",
       "</table>\n",
       "</div>"
      ],
      "text/plain": [
       "                         address_raw   rooms_raw area_raw    price_raw  \\\n",
       "0    Weidmannstrasse 13, 8046 Zürich  5.5 Zimmer    140m²  CHF 5’920.–   \n",
       "1    Badenerstrasse 682, 8048 Zürich  3.5 Zimmer     80m²  CHF 3’920.–   \n",
       "2  Anna-Heer-Strasse 14, 8057 Zürich  3.5 Zimmer     72m²  CHF 4’200.–   \n",
       "3  Anna-Heer-Strasse 14, 8057 Zürich  4.5 Zimmer     85m²  CHF 4’830.–   \n",
       "4  Anna-Heer-Strasse 12, 8057 Zürich  4.5 Zimmer     85m²  CHF 4’830.–   \n",
       "\n",
       "                                           title_raw  \\\n",
       "0  Luxuriöse 5.5-Zimmerwohnung mit großzügigem Ga...   \n",
       "1         Exklusive Erstvermietung - Projekt \"TILIA\"   \n",
       "2                        3.5 Zimmerwohnung in Zürich   \n",
       "3                        4.5 Zimmerwohnung in Zürich   \n",
       "4                        4.5 Zimmerwohnung in Zürich   \n",
       "\n",
       "                                     description_raw  \n",
       "0  Moderne und wunderschöne 5.5-Zimmerwohnung mit...  \n",
       "1  Im Projekt «TILIA» finden Sie 72 stilvolle 1.5...  \n",
       "2  An der Anna-Heer-Strasse in Zürich entstehen m...  \n",
       "3  An der Anna-Heer-Strasse in Zürich entstehen m...  \n",
       "4  An der Anna-Heer-Strasse in Zürich entstehen m...  "
      ]
     },
     "execution_count": 18,
     "metadata": {},
     "output_type": "execute_result"
    }
   ],
   "source": [
    "# Scrape multiple pages\n",
    "data = []\n",
    "base_url = 'https://www.immoscout24.ch/de/immobilien/mieten/ort-zuerich?pn='\n",
    "\n",
    "for page in range(1, 4):  # pages 1 to 3\n",
    "    url = base_url + str(page)\n",
    "    print(f\"Scraping {url}...\")\n",
    "    data.extend(extract_listing_info(url))\n",
    "\n",
    "# Create DataFrame\n",
    "df = pd.DataFrame(data)\n",
    "\n",
    "# Save to CSV\n",
    "df.to_csv('./data/rental_apartments_zuerich.csv', index=False)\n",
    "\n",
    "print(\"\\nData saved to real_estate_listings.csv\")\n",
    "\n",
    "# Show the first few rows of the DataFrame\n",
    "df.head()"
   ]
  },
  {
   "cell_type": "markdown",
   "metadata": {},
   "source": [
    "## Extract prices from strings using a regular expression (regex)"
   ]
  },
  {
   "cell_type": "code",
   "execution_count": 19,
   "metadata": {},
   "outputs": [
    {
     "data": {
      "text/html": [
       "<div>\n",
       "<style scoped>\n",
       "    .dataframe tbody tr th:only-of-type {\n",
       "        vertical-align: middle;\n",
       "    }\n",
       "\n",
       "    .dataframe tbody tr th {\n",
       "        vertical-align: top;\n",
       "    }\n",
       "\n",
       "    .dataframe thead th {\n",
       "        text-align: right;\n",
       "    }\n",
       "</style>\n",
       "<table border=\"1\" class=\"dataframe\">\n",
       "  <thead>\n",
       "    <tr style=\"text-align: right;\">\n",
       "      <th></th>\n",
       "      <th>address_raw</th>\n",
       "      <th>rooms_raw</th>\n",
       "      <th>area_raw</th>\n",
       "      <th>price_raw</th>\n",
       "      <th>price</th>\n",
       "    </tr>\n",
       "  </thead>\n",
       "  <tbody>\n",
       "    <tr>\n",
       "      <th>0</th>\n",
       "      <td>Weidmannstrasse 13, 8046 Zürich</td>\n",
       "      <td>5.5 Zimmer</td>\n",
       "      <td>140m²</td>\n",
       "      <td>CHF 5’920.–</td>\n",
       "      <td>5920</td>\n",
       "    </tr>\n",
       "    <tr>\n",
       "      <th>1</th>\n",
       "      <td>Badenerstrasse 682, 8048 Zürich</td>\n",
       "      <td>3.5 Zimmer</td>\n",
       "      <td>80m²</td>\n",
       "      <td>CHF 3’920.–</td>\n",
       "      <td>3920</td>\n",
       "    </tr>\n",
       "    <tr>\n",
       "      <th>2</th>\n",
       "      <td>Anna-Heer-Strasse 14, 8057 Zürich</td>\n",
       "      <td>3.5 Zimmer</td>\n",
       "      <td>72m²</td>\n",
       "      <td>CHF 4’200.–</td>\n",
       "      <td>4200</td>\n",
       "    </tr>\n",
       "    <tr>\n",
       "      <th>3</th>\n",
       "      <td>Anna-Heer-Strasse 14, 8057 Zürich</td>\n",
       "      <td>4.5 Zimmer</td>\n",
       "      <td>85m²</td>\n",
       "      <td>CHF 4’830.–</td>\n",
       "      <td>4830</td>\n",
       "    </tr>\n",
       "    <tr>\n",
       "      <th>4</th>\n",
       "      <td>Anna-Heer-Strasse 12, 8057 Zürich</td>\n",
       "      <td>4.5 Zimmer</td>\n",
       "      <td>85m²</td>\n",
       "      <td>CHF 4’830.–</td>\n",
       "      <td>4830</td>\n",
       "    </tr>\n",
       "  </tbody>\n",
       "</table>\n",
       "</div>"
      ],
      "text/plain": [
       "                         address_raw   rooms_raw area_raw    price_raw  price\n",
       "0    Weidmannstrasse 13, 8046 Zürich  5.5 Zimmer    140m²  CHF 5’920.–   5920\n",
       "1    Badenerstrasse 682, 8048 Zürich  3.5 Zimmer     80m²  CHF 3’920.–   3920\n",
       "2  Anna-Heer-Strasse 14, 8057 Zürich  3.5 Zimmer     72m²  CHF 4’200.–   4200\n",
       "3  Anna-Heer-Strasse 14, 8057 Zürich  4.5 Zimmer     85m²  CHF 4’830.–   4830\n",
       "4  Anna-Heer-Strasse 12, 8057 Zürich  4.5 Zimmer     85m²  CHF 4’830.–   4830"
      ]
     },
     "execution_count": 19,
     "metadata": {},
     "output_type": "execute_result"
    }
   ],
   "source": [
    "# Extract prices from the 'price_raw' column using a regular expression (regex)\n",
    "df['price'] = df['price_raw'].str.extract(r'(\\d[\\d’]*\\d)')\n",
    "\n",
    "# Remove thousands separator and convert to integer\n",
    "df['price'] = df['price'].str.replace('’', '').astype(int)\n",
    "\n",
    "# Show the first few rows of the DataFrame (selected columns)\n",
    "df[['address_raw', 'rooms_raw', 'area_raw', 'price_raw', 'price']].head()"
   ]
  },
  {
   "cell_type": "markdown",
   "metadata": {},
   "source": [
    "## Create histogram of prices"
   ]
  },
  {
   "cell_type": "code",
   "execution_count": 20,
   "metadata": {},
   "outputs": [
    {
     "data": {
      "image/png": "[encoded data removed]",
      "text/plain": [
       "<Figure size 700x400 with 1 Axes>"
      ]
     },
     "metadata": {},
     "output_type": "display_data"
    }
   ],
   "source": [
    "# Plot a histogram of the prices\n",
    "plt.figure(figsize=(7, 4))\n",
    "plt.hist(df['price'], bins=30, color='greenyellow', edgecolor='gray')\n",
    "plt.title('Histogram of prices')\n",
    "plt.xlabel('Price (CHF)')\n",
    "plt.ylabel('Frequency')\n",
    "plt.show()\n"
   ]
  },
  {
   "cell_type": "markdown",
   "metadata": {},
   "source": [
    "### Jupyter notebook --footer info-- (please always provide this at the end of each notebook)"
   ]
  },
  {
   "cell_type": "code",
   "execution_count": 21,
   "metadata": {},
   "outputs": [
    {
     "name": "stdout",
     "output_type": "stream",
     "text": [
      "-----------------------------------\n",
      "NT\n",
      "Windows | 10\n",
      "Datetime: 2025-03-03 08:27:19\n",
      "Python Version: 3.11.10\n",
      "-----------------------------------\n"
     ]
    }
   ],
   "source": [
    "import os\n",
    "import platform\n",
    "import socket\n",
    "from platform import python_version\n",
    "from datetime import datetime\n",
    "\n",
    "print('-----------------------------------')\n",
    "print(os.name.upper())\n",
    "print(platform.system(), '|', platform.release())\n",
    "print('Datetime:', datetime.now().strftime(\"%Y-%m-%d %H:%M:%S\"))\n",
    "print('Python Version:', python_version())\n",
    "print('-----------------------------------')"
   ]
  }
 ],
 "metadata": {
  "kernelspec": {
   "display_name": "spenv",
   "language": "python",
   "name": "python3"
  },
  "language_info": {
   "codemirror_mode": {
    "name": "ipython",
    "version": 3
   },
   "file_extension": ".py",
   "mimetype": "text/x-python",
   "name": "python",
   "nbconvert_exporter": "python",
   "pygments_lexer": "ipython3",
   "version": "3.11.10"
  }
 },
 "nbformat": 4,
 "nbformat_minor": 2
}
